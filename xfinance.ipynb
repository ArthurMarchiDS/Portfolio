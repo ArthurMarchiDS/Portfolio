{
  "nbformat": 4,
  "nbformat_minor": 0,
  "metadata": {
    "colab": {
      "provenance": [],
      "authorship_tag": "ABX9TyNpgiWLxGoZt9/DzAhrebAt",
      "include_colab_link": true
    },
    "kernelspec": {
      "name": "python3",
      "display_name": "Python 3"
    },
    "language_info": {
      "name": "python"
    }
  },
  "cells": [
    {
      "cell_type": "markdown",
      "metadata": {
        "id": "view-in-github",
        "colab_type": "text"
      },
      "source": [
        "<a href=\"https://colab.research.google.com/github/ArthurMarchiDS/Portfolio/blob/master/xfinance.ipynb\" target=\"_parent\"><img src=\"https://colab.research.google.com/assets/colab-badge.svg\" alt=\"Open In Colab\"/></a>"
      ]
    },
    {
      "cell_type": "code",
      "execution_count": null,
      "metadata": {
        "colab": {
          "base_uri": "https://localhost:8080/"
        },
        "collapsed": true,
        "id": "YLM5mq62QjRY",
        "outputId": "17da5755-94e2-4e84-c3fb-abc5995e58d1"
      },
      "outputs": [
        {
          "output_type": "stream",
          "name": "stdout",
          "text": [
            "Requirement already satisfied: google-cloud-bigquery in /usr/local/lib/python3.10/dist-packages (3.25.0)\n",
            "Requirement already satisfied: google-api-core!=2.0.*,!=2.1.*,!=2.10.*,!=2.2.*,!=2.3.*,!=2.4.*,!=2.5.*,!=2.6.*,!=2.7.*,!=2.8.*,!=2.9.*,<3.0.0dev,>=1.34.1 in /usr/local/lib/python3.10/dist-packages (from google-api-core[grpc]!=2.0.*,!=2.1.*,!=2.10.*,!=2.2.*,!=2.3.*,!=2.4.*,!=2.5.*,!=2.6.*,!=2.7.*,!=2.8.*,!=2.9.*,<3.0.0dev,>=1.34.1->google-cloud-bigquery) (2.19.2)\n",
            "Requirement already satisfied: google-auth<3.0.0dev,>=2.14.1 in /usr/local/lib/python3.10/dist-packages (from google-cloud-bigquery) (2.27.0)\n",
            "Requirement already satisfied: google-cloud-core<3.0.0dev,>=1.6.0 in /usr/local/lib/python3.10/dist-packages (from google-cloud-bigquery) (2.4.1)\n",
            "Requirement already satisfied: google-resumable-media<3.0dev,>=0.6.0 in /usr/local/lib/python3.10/dist-packages (from google-cloud-bigquery) (2.7.2)\n",
            "Requirement already satisfied: packaging>=20.0.0 in /usr/local/lib/python3.10/dist-packages (from google-cloud-bigquery) (24.2)\n",
            "Requirement already satisfied: python-dateutil<3.0dev,>=2.7.2 in /usr/local/lib/python3.10/dist-packages (from google-cloud-bigquery) (2.8.2)\n",
            "Requirement already satisfied: requests<3.0.0dev,>=2.21.0 in /usr/local/lib/python3.10/dist-packages (from google-cloud-bigquery) (2.32.3)\n",
            "Requirement already satisfied: googleapis-common-protos<2.0.dev0,>=1.56.2 in /usr/local/lib/python3.10/dist-packages (from google-api-core!=2.0.*,!=2.1.*,!=2.10.*,!=2.2.*,!=2.3.*,!=2.4.*,!=2.5.*,!=2.6.*,!=2.7.*,!=2.8.*,!=2.9.*,<3.0.0dev,>=1.34.1->google-api-core[grpc]!=2.0.*,!=2.1.*,!=2.10.*,!=2.2.*,!=2.3.*,!=2.4.*,!=2.5.*,!=2.6.*,!=2.7.*,!=2.8.*,!=2.9.*,<3.0.0dev,>=1.34.1->google-cloud-bigquery) (1.66.0)\n",
            "Requirement already satisfied: protobuf!=3.20.0,!=3.20.1,!=4.21.0,!=4.21.1,!=4.21.2,!=4.21.3,!=4.21.4,!=4.21.5,<6.0.0.dev0,>=3.19.5 in /usr/local/lib/python3.10/dist-packages (from google-api-core!=2.0.*,!=2.1.*,!=2.10.*,!=2.2.*,!=2.3.*,!=2.4.*,!=2.5.*,!=2.6.*,!=2.7.*,!=2.8.*,!=2.9.*,<3.0.0dev,>=1.34.1->google-api-core[grpc]!=2.0.*,!=2.1.*,!=2.10.*,!=2.2.*,!=2.3.*,!=2.4.*,!=2.5.*,!=2.6.*,!=2.7.*,!=2.8.*,!=2.9.*,<3.0.0dev,>=1.34.1->google-cloud-bigquery) (4.25.5)\n",
            "Requirement already satisfied: proto-plus<2.0.0dev,>=1.22.3 in /usr/local/lib/python3.10/dist-packages (from google-api-core!=2.0.*,!=2.1.*,!=2.10.*,!=2.2.*,!=2.3.*,!=2.4.*,!=2.5.*,!=2.6.*,!=2.7.*,!=2.8.*,!=2.9.*,<3.0.0dev,>=1.34.1->google-api-core[grpc]!=2.0.*,!=2.1.*,!=2.10.*,!=2.2.*,!=2.3.*,!=2.4.*,!=2.5.*,!=2.6.*,!=2.7.*,!=2.8.*,!=2.9.*,<3.0.0dev,>=1.34.1->google-cloud-bigquery) (1.25.0)\n",
            "Requirement already satisfied: grpcio<2.0dev,>=1.33.2 in /usr/local/lib/python3.10/dist-packages (from google-api-core[grpc]!=2.0.*,!=2.1.*,!=2.10.*,!=2.2.*,!=2.3.*,!=2.4.*,!=2.5.*,!=2.6.*,!=2.7.*,!=2.8.*,!=2.9.*,<3.0.0dev,>=1.34.1->google-cloud-bigquery) (1.68.1)\n",
            "Requirement already satisfied: grpcio-status<2.0.dev0,>=1.33.2 in /usr/local/lib/python3.10/dist-packages (from google-api-core[grpc]!=2.0.*,!=2.1.*,!=2.10.*,!=2.2.*,!=2.3.*,!=2.4.*,!=2.5.*,!=2.6.*,!=2.7.*,!=2.8.*,!=2.9.*,<3.0.0dev,>=1.34.1->google-cloud-bigquery) (1.62.3)\n",
            "Requirement already satisfied: cachetools<6.0,>=2.0.0 in /usr/local/lib/python3.10/dist-packages (from google-auth<3.0.0dev,>=2.14.1->google-cloud-bigquery) (5.5.0)\n",
            "Requirement already satisfied: pyasn1-modules>=0.2.1 in /usr/local/lib/python3.10/dist-packages (from google-auth<3.0.0dev,>=2.14.1->google-cloud-bigquery) (0.4.1)\n",
            "Requirement already satisfied: rsa<5,>=3.1.4 in /usr/local/lib/python3.10/dist-packages (from google-auth<3.0.0dev,>=2.14.1->google-cloud-bigquery) (4.9)\n",
            "Requirement already satisfied: google-crc32c<2.0dev,>=1.0 in /usr/local/lib/python3.10/dist-packages (from google-resumable-media<3.0dev,>=0.6.0->google-cloud-bigquery) (1.6.0)\n",
            "Requirement already satisfied: six>=1.5 in /usr/local/lib/python3.10/dist-packages (from python-dateutil<3.0dev,>=2.7.2->google-cloud-bigquery) (1.17.0)\n",
            "Requirement already satisfied: charset-normalizer<4,>=2 in /usr/local/lib/python3.10/dist-packages (from requests<3.0.0dev,>=2.21.0->google-cloud-bigquery) (3.4.0)\n",
            "Requirement already satisfied: idna<4,>=2.5 in /usr/local/lib/python3.10/dist-packages (from requests<3.0.0dev,>=2.21.0->google-cloud-bigquery) (3.10)\n",
            "Requirement already satisfied: urllib3<3,>=1.21.1 in /usr/local/lib/python3.10/dist-packages (from requests<3.0.0dev,>=2.21.0->google-cloud-bigquery) (2.2.3)\n",
            "Requirement already satisfied: certifi>=2017.4.17 in /usr/local/lib/python3.10/dist-packages (from requests<3.0.0dev,>=2.21.0->google-cloud-bigquery) (2024.12.14)\n",
            "Requirement already satisfied: pyasn1<0.7.0,>=0.4.6 in /usr/local/lib/python3.10/dist-packages (from pyasn1-modules>=0.2.1->google-auth<3.0.0dev,>=2.14.1->google-cloud-bigquery) (0.6.1)\n"
          ]
        }
      ],
      "source": [
        "pip install google-cloud-bigquery"
      ]
    },
    {
      "cell_type": "code",
      "source": [
        "pip install google-auth"
      ],
      "metadata": {
        "colab": {
          "base_uri": "https://localhost:8080/"
        },
        "collapsed": true,
        "id": "bPCMD_MFQnQt",
        "outputId": "7dcec335-abb2-4a6e-bbf7-1789693b5256"
      },
      "execution_count": null,
      "outputs": [
        {
          "output_type": "stream",
          "name": "stdout",
          "text": [
            "Requirement already satisfied: google-auth in /usr/local/lib/python3.10/dist-packages (2.27.0)\n",
            "Requirement already satisfied: cachetools<6.0,>=2.0.0 in /usr/local/lib/python3.10/dist-packages (from google-auth) (5.5.0)\n",
            "Requirement already satisfied: pyasn1-modules>=0.2.1 in /usr/local/lib/python3.10/dist-packages (from google-auth) (0.4.1)\n",
            "Requirement already satisfied: rsa<5,>=3.1.4 in /usr/local/lib/python3.10/dist-packages (from google-auth) (4.9)\n",
            "Requirement already satisfied: pyasn1<0.7.0,>=0.4.6 in /usr/local/lib/python3.10/dist-packages (from pyasn1-modules>=0.2.1->google-auth) (0.6.1)\n"
          ]
        }
      ]
    },
    {
      "cell_type": "code",
      "source": [
        "import requests\n",
        "import pandas as pd\n",
        "from datetime import datetime, timedelta\n",
        "import json\n",
        "import time\n",
        "from google.cloud import bigquery\n",
        "from google.colab import auth"
      ],
      "metadata": {
        "id": "dAHSwvBVTp5k"
      },
      "execution_count": null,
      "outputs": []
    },
    {
      "cell_type": "code",
      "source": [
        "auth.authenticate_user()"
      ],
      "metadata": {
        "id": "KcBpyDGDUMMn"
      },
      "execution_count": null,
      "outputs": []
    },
    {
      "cell_type": "markdown",
      "source": [
        "Transactions"
      ],
      "metadata": {
        "id": "XFzpe7xmz_1w"
      }
    },
    {
      "cell_type": "code",
      "source": [
        "token = (\"c612a092017fc39036d10905bf6ce586\")\n",
        "headers = {'Authorization' : f'Bearer {token}'}\n",
        "url_transactions = f'https://myfin-financial-management.bubbleapps.io/api/1.1/obj/transactions'\n",
        "url_recipient = \"https://myfin-financial-management.bubbleapps.io/api/1.1/obj/recipient/\"\n",
        "url_category = \"https://myfin-financial-management.bubbleapps.io/api/1.1/obj/category/\"\n",
        "\n",
        "project_id = \"xfinance-446113\"\n",
        "dataset_id = \"xfinance_dataset\"\n",
        "\n",
        "client = bigquery.Client(project=project_id)\n",
        "\n",
        "dataset_full_id = f\"{client.project}.{dataset_id}\"\n",
        "dataset = bigquery.Dataset(dataset_full_id)\n",
        "dataset.location = \"US\"\n",
        "\n",
        "def chamar_api_transactions(url_transactions, headers):\n",
        "\n",
        "    project_id = \"xfinance-446113\"\n",
        "    dataset_id = \"xfinance_dataset\"\n",
        "    table_name = \"transactions\"\n",
        "\n",
        "    client = bigquery.Client(project=project_id)\n",
        "\n",
        "    dataset_full_id = f\"{client.project}.{dataset_id}\"\n",
        "    dataset = bigquery.Dataset(dataset_full_id)\n",
        "    dataset.location = \"US\"\n",
        "\n",
        "    try:\n",
        "        # Verifica se o dataset existe\n",
        "        client.get_dataset(dataset)\n",
        "        print(f\"Dataset {dataset_id} já existe.\")\n",
        "    except:\n",
        "        # Cria o dataset se não existir\n",
        "        dataset = client.create_dataset(dataset, timeout=30)\n",
        "        print(f\"Dataset {dataset_id} criado com sucesso.\")\n",
        "\n",
        "    table_id_transactions = f\"{client.project}.{dataset_id}.{table_name}\"\n",
        "\n",
        "    token = (\"c612a092017fc39036d10905bf6ce586\")\n",
        "    headers = {'Authorization' : f'Bearer {token}'}\n",
        "\n",
        "    url_transactions = f'https://myfin-financial-management.bubbleapps.io/api/1.1/obj/transactions'\n",
        "\n",
        "    response_transactions = requests.get(url_transactions, headers=headers)\n",
        "\n",
        "    transactions_json = response_transactions.json()['response']['results']\n",
        "\n",
        "    lista_dados_transaction = []\n",
        "    cursor = 0\n",
        "\n",
        "    for i in transactions_json:\n",
        "\n",
        "        response_transactions = requests.get(url_transactions, headers=headers, params={\"cursor\": cursor})\n",
        "\n",
        "        lista_dados_transaction.append(i)\n",
        "\n",
        "        cursor += 100\n",
        "        time.sleep(1)\n",
        "\n",
        "    df_transactions = pd.DataFrame(lista_dados_transaction)\n",
        "\n",
        "    df_transactions = pd.DataFrame(df_transactions)\n",
        "\n",
        "    job_config = bigquery.LoadJobConfig(write_disposition=\"WRITE_TRUNCATE\", autodetect=True)\n",
        "    job = client.load_table_from_dataframe(df_transactions, table_id_transactions, job_config=job_config)\n",
        "    job.result()\n",
        "\n",
        "    return pd.DataFrame(df_transactions)\n",
        "\n",
        "def chamar_api_recipient(url_recipient, headers):\n",
        "\n",
        "    project_id = \"xfinance-446113\"\n",
        "    dataset_id = \"xfinance_dataset\"\n",
        "    table_name = \"recipient\"\n",
        "\n",
        "    client = bigquery.Client(project=project_id)\n",
        "\n",
        "    dataset_full_id = f\"{client.project}.{dataset_id}\"\n",
        "    dataset = bigquery.Dataset(dataset_full_id)\n",
        "    dataset.location = \"US\"\n",
        "\n",
        "    try:\n",
        "        # Verifica se o dataset existe\n",
        "        client.get_dataset(dataset)\n",
        "        print(f\"Dataset {dataset_id} já existe.\")\n",
        "    except:\n",
        "        # Cria o dataset se não existir\n",
        "        dataset = client.create_dataset(dataset, timeout=30)\n",
        "        print(f\"Dataset {dataset_id} criado com sucesso.\")\n",
        "\n",
        "    table_id_recipient = f\"{client.project}.{dataset_id}.{table_name}\"\n",
        "\n",
        "    token = (\"c612a092017fc39036d10905bf6ce586\")\n",
        "    headers = {'Authorization' : f'Bearer {token}'}\n",
        "\n",
        "    url_recipient = f'https://myfin-financial-management.bubbleapps.io/api/1.1/obj/recipient'\n",
        "\n",
        "    response_recipient = requests.get(url_recipient, headers=headers)\n",
        "\n",
        "    recipient_json = response_recipient.json()['response']['results']\n",
        "\n",
        "    lista_dados_recipient = []\n",
        "    cursor = 0\n",
        "\n",
        "    for i in recipient_json:\n",
        "\n",
        "        response_recipient = requests.get(url_recipient, headers=headers, params={\"cursor\": cursor})\n",
        "\n",
        "        lista_dados_recipient.append(i)\n",
        "\n",
        "        cursor += 100\n",
        "        time.sleep(1)\n",
        "\n",
        "    df_recipient = pd.DataFrame(lista_dados_recipient)\n",
        "\n",
        "    df_recipient = pd.DataFrame(df_recipient)\n",
        "\n",
        "    job_config = bigquery.LoadJobConfig(write_disposition=\"WRITE_TRUNCATE\", autodetect=True)\n",
        "    job = client.load_table_from_dataframe(df_recipient, table_id_recipient, job_config=job_config)\n",
        "    job.result()\n",
        "\n",
        "    return pd.DataFrame(df_recipient)\n",
        "\n",
        "def chamar_api_category(url_category, headers):\n",
        "\n",
        "    project_id = \"xfinance-446113\"\n",
        "    dataset_id = \"xfinance_dataset\"\n",
        "    table_name = \"category\"\n",
        "\n",
        "    client = bigquery.Client(project=project_id)\n",
        "\n",
        "    dataset_full_id = f\"{client.project}.{dataset_id}\"\n",
        "    dataset = bigquery.Dataset(dataset_full_id)\n",
        "    dataset.location = \"US\"\n",
        "\n",
        "    try:\n",
        "        # Verifica se o dataset existe\n",
        "        client.get_dataset(dataset)\n",
        "        print(f\"Dataset {dataset_id} já existe.\")\n",
        "    except:\n",
        "        # Cria o dataset se não existir\n",
        "        dataset = client.create_dataset(dataset, timeout=30)\n",
        "        print(f\"Dataset {dataset_id} criado com sucesso.\")\n",
        "\n",
        "    table_id_category = f\"{client.project}.{dataset_id}.{table_name}\"\n",
        "\n",
        "    token = (\"c612a092017fc39036d10905bf6ce586\")\n",
        "    headers = {'Authorization' : f'Bearer {token}'}\n",
        "\n",
        "    url_category = f'https://myfin-financial-management.bubbleapps.io/api/1.1/obj/category'\n",
        "\n",
        "    response_category = requests.get(url_category, headers=headers)\n",
        "\n",
        "    category_json = response_category.json()['response']['results']\n",
        "\n",
        "    lista_dados_category = []\n",
        "    cursor = 0\n",
        "\n",
        "    for i in category_json:\n",
        "\n",
        "        response_category = requests.get(url_category, headers=headers, params={\"cursor\": cursor})\n",
        "\n",
        "        lista_dados_category.append(i)\n",
        "\n",
        "        cursor += 100\n",
        "        time.sleep(1)\n",
        "\n",
        "    df_category = pd.DataFrame(lista_dados_category)\n",
        "\n",
        "    df_category = pd.DataFrame(df_category)\n",
        "\n",
        "    job_config = bigquery.LoadJobConfig(write_disposition=\"WRITE_TRUNCATE\", autodetect=True)\n",
        "    job = client.load_table_from_dataframe(df_category, table_id_category, job_config=job_config)\n",
        "    job.result()\n",
        "\n",
        "    return pd.DataFrame(df_category)\n",
        "\n",
        "df_transactions = chamar_api_transactions(url_transactions, headers)\n",
        "df_recipient = chamar_api_recipient(url_recipient, headers)\n",
        "df_category = chamar_api_category(url_category, headers)\n"
      ],
      "metadata": {
        "collapsed": true,
        "id": "-WGpDIXgVLrc",
        "colab": {
          "base_uri": "https://localhost:8080/"
        },
        "outputId": "88c31a2a-13d2-47a5-af8b-64d0515b49c4"
      },
      "execution_count": null,
      "outputs": [
        {
          "output_type": "stream",
          "name": "stdout",
          "text": [
            "Dataset xfinance_dataset já existe.\n",
            "Dataset xfinance_dataset já existe.\n",
            "Dataset xfinance_dataset já existe.\n"
          ]
        }
      ]
    }
  ]
}