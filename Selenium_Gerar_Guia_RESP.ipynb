{
  "cells": [
    {
      "cell_type": "markdown",
      "metadata": {
        "id": "view-in-github",
        "colab_type": "text"
      },
      "source": [
        "<a href=\"https://colab.research.google.com/github/ArthurMarchiDS/Portfolio/blob/master/Selenium_Gerar_Guia_RESP.ipynb\" target=\"_parent\"><img src=\"https://colab.research.google.com/assets/colab-badge.svg\" alt=\"Open In Colab\"/></a>"
      ]
    },
    {
      "cell_type": "code",
      "execution_count": null,
      "id": "a7769728",
      "metadata": {
        "id": "a7769728"
      },
      "outputs": [],
      "source": [
        "from selenium import webdriver\n",
        "\n",
        "navegador = webdriver.Chrome()\n",
        "navegador.get('https://www.stj.jus.br/custas/guia/formulario/')"
      ]
    },
    {
      "cell_type": "code",
      "execution_count": null,
      "id": "dd5b2f9c",
      "metadata": {
        "id": "dd5b2f9c"
      },
      "outputs": [],
      "source": [
        "from selenium.webdriver.support.select import Select"
      ]
    },
    {
      "cell_type": "code",
      "execution_count": null,
      "id": "88470c38",
      "metadata": {
        "id": "88470c38"
      },
      "outputs": [],
      "source": [
        "from selenium.webdriver.support.ui import Select"
      ]
    },
    {
      "cell_type": "code",
      "execution_count": null,
      "id": "86fb11dc",
      "metadata": {
        "id": "86fb11dc"
      },
      "outputs": [],
      "source": [
        "from selenium.webdriver.common.by import By"
      ]
    },
    {
      "cell_type": "code",
      "execution_count": null,
      "id": "15206590",
      "metadata": {
        "id": "15206590"
      },
      "outputs": [],
      "source": [
        "import time"
      ]
    },
    {
      "cell_type": "code",
      "execution_count": null,
      "id": "80c4da2f",
      "metadata": {
        "id": "80c4da2f"
      },
      "outputs": [],
      "source": [
        "#Tipo de Recolhimento\n",
        "\n",
        "Tipo = Select(navegador.find_element(By.ID, 'idRecolhimentoSequencial'))\n",
        "Tipo.select_by_value('5')\n",
        "\n",
        "#Recursos Interpostos em Instância Inferior\n",
        "\n",
        "Interposto = Select(navegador.find_element(By.ID, 'idClasse'))\n",
        "Interposto.select_by_value('30')\n",
        "\n",
        "#UF\n",
        "\n",
        "Uf = Select(navegador.find_element(By.ID, 'idUnidadeFederativa'))\n",
        "Uf.select_by_value('SP')\n",
        "\n",
        "#Origem\n",
        "\n",
        "Origem = Select(navegador.find_element(By.ID, 'idOrigem'))\n",
        "Origem.select_by_value('1039')\n",
        "\n",
        "\n",
        "#OrigemNumero\n",
        "\n",
        "navegador.find_element(By.ID, 'idOrigemNumeroProcesso').send_keys('0211500-21.2007.5.15.0025')\n",
        "\n",
        "time.sleep(20)\n",
        "\n",
        "#CPF CNPJ\n",
        "\n",
        "navegador.find_element(By.ID, 'idAutorRecorrenteCpjCnpj').send_keys('00000000000191')\n",
        "\n",
        "#UFAutor\n",
        "\n",
        "UfAutor = Select(navegador.find_element(By.ID, 'idAutorRecorrenteMunicipio'))\n",
        "UfAutor.select_by_value('10341')\n",
        "navegador.find_element(By.ID, 'idAutorRecorrenteMunicipio').send_keys('São Paulo')\n",
        "\n",
        "#Bairro\n",
        "\n",
        "navegador.find_element(By.ID, 'idAutorRecorrenteBairro').send_keys('Centro')\n",
        "\n",
        "\n",
        "#CEP\n",
        "\n",
        "navegador.find_element(By.ID, 'idAutorRecorrenteCEP').send_keys('01013-001')\n",
        "\n",
        "#Endereço\n",
        "\n",
        "navegador.find_element(By.ID, 'idAutorRecorrenteEndereco').send_keys('Rua Libero Badaró, 582')\n",
        "\n",
        "#Réu Ou Recorrido\n",
        "\n",
        "navegador.find_element(By.ID, 'idReuRecorridoCpjCnpj').send_keys('79379491001660')\n",
        "\n",
        "navegador.find_element(By.XPATH, '/html/body/div[2]/div[6]/div/div/div[3]/div[2]/div/div/form/div[4]/div[3]/input[2]').click()\n",
        "\n",
        "navegador.find_element(By.XPATH, '/html/body/div[2]/div[6]/div/div/div[3]/div[2]/div/div/form/div[7]/input').click()\n",
        "\n"
      ]
    }
  ],
  "metadata": {
    "kernelspec": {
      "display_name": "Python 3 (ipykernel)",
      "language": "python",
      "name": "python3"
    },
    "language_info": {
      "codemirror_mode": {
        "name": "ipython",
        "version": 3
      },
      "file_extension": ".py",
      "mimetype": "text/x-python",
      "name": "python",
      "nbconvert_exporter": "python",
      "pygments_lexer": "ipython3",
      "version": "3.9.7"
    },
    "colab": {
      "name": "Selenium Gerar Guia RESP.ipynb",
      "provenance": [],
      "include_colab_link": true
    }
  },
  "nbformat": 4,
  "nbformat_minor": 5
}