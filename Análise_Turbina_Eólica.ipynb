{
  "nbformat": 4,
  "nbformat_minor": 0,
  "metadata": {
    "colab": {
      "name": "Análise Turbina Eólica.ipynb",
      "provenance": [],
      "toc_visible": true,
      "authorship_tag": "ABX9TyN6qeokqjdu9uMynKVjknUu",
      "include_colab_link": true
    },
    "kernelspec": {
      "name": "python3",
      "display_name": "Python 3"
    },
    "language_info": {
      "name": "python"
    }
  },
  "cells": [
    {
      "cell_type": "markdown",
      "metadata": {
        "id": "view-in-github",
        "colab_type": "text"
      },
      "source": [
        "<a href=\"https://colab.research.google.com/github/ArthurMarchiDS/Portfolio/blob/master/An%C3%A1lise_Turbina_E%C3%B3lica.ipynb\" target=\"_parent\"><img src=\"https://colab.research.google.com/assets/colab-badge.svg\" alt=\"Open In Colab\"/></a>"
      ]
    },
    {
      "cell_type": "markdown",
      "source": [
        "# **Análise de Turbina Eólica**\n",
        "\n",
        "---\n",
        "\n",
        "Nas turbinas de vento, o sistema SCADA, sigla em inglês para *Controle de supervisão e aquisição de dados* em tradução livre, mede e salva dados como velocidade do vento, direção do vento, poder gerado pela turbina a cada 10 minutos, entre outros dados.\n",
        "\n",
        "Os dados do Dataset em análise foram retirados de uma turbina de vento em funcionamento atualmente na Turquia."
      ],
      "metadata": {
        "id": "cj95fljzgpZ-"
      }
    },
    {
      "cell_type": "markdown",
      "source": [
        "# **O Dataset**\n",
        "---\n",
        "O Dataset em questão é composto pelas seguintes colunas.\n",
        "\n",
        "*   Date/Time - Data e hora em intervalos de 10 minutos\n",
        "*   LV ActivePower (kW) - A quantidade de energia gerada pela turbina\n",
        "*   Wind Speed (m/s) - Velocidade do vento\n",
        "*   TheoreticalPowerCurve (KWh) - Os valores potenciais fornecidos pelo fabricante\n",
        "*   Wind Direction (°) - A direção do vento, levando em conta que esse modelo de turbina muda a direção automaticamente.\n",
        "\n"
      ],
      "metadata": {
        "id": "UyRbFHlNi9GF"
      }
    },
    {
      "cell_type": "markdown",
      "source": [
        "#**Upload do Arquivo**\n",
        "---\n",
        "Para quem possa interessar em reproduzir a análise realizada, o Dataset foi retirado do Kaggle.\n",
        "\n",
        "[Kaggle](https://www.kaggle.com/berkerisen/wind-turbine-scada-dataset)"
      ],
      "metadata": {
        "id": "NtKWifEqkaS0"
      }
    },
    {
      "cell_type": "markdown",
      "source": [
        "#**Bibliotecas**\n",
        "---"
      ],
      "metadata": {
        "id": "auEsxJ4HlTuD"
      }
    },
    {
      "cell_type": "code",
      "source": [
        "#Importando todas as bibliotecas necessárias para a análise\n",
        "\n",
        "import pandas as pd\n",
        "import matplotlib.pyplot as plt\n",
        "from matplotlib.pyplot import figure\n",
        "import seaborn as sns"
      ],
      "metadata": {
        "id": "yEHyzmRQlZrq"
      },
      "execution_count": 1,
      "outputs": []
    },
    {
      "cell_type": "code",
      "execution_count": 2,
      "metadata": {
        "id": "-F6ZV89keSwd"
      },
      "outputs": [],
      "source": [
        "#Carregando o arquivo\n",
        "\n",
        "turbina = pd.read_csv('T1.csv')\n"
      ]
    },
    {
      "cell_type": "markdown",
      "source": [
        "# **Análise dos Dados**\n",
        "---\n",
        "\n",
        "Antes de iniciar qualquer análise, vamos visualizar o nosso dataset, analisando as 5 primeiras entradas."
      ],
      "metadata": {
        "id": "7GrVYSevn8Ax"
      }
    },
    {
      "cell_type": "code",
      "source": [
        "turbina.head()  # Traz os primeiros registros - Apenas para visualizarmos como está o Dataset"
      ],
      "metadata": {
        "colab": {
          "base_uri": "https://localhost:8080/",
          "height": 206
        },
        "id": "czoQciVNoVyV",
        "outputId": "9a5f1fef-d2a7-4c1e-e650-4e5971238ff8"
      },
      "execution_count": 3,
      "outputs": [
        {
          "output_type": "execute_result",
          "data": {
            "text/html": [
              "\n",
              "  <div id=\"df-556245c9-ba09-48b2-82e8-521bed6e5ec9\">\n",
              "    <div class=\"colab-df-container\">\n",
              "      <div>\n",
              "<style scoped>\n",
              "    .dataframe tbody tr th:only-of-type {\n",
              "        vertical-align: middle;\n",
              "    }\n",
              "\n",
              "    .dataframe tbody tr th {\n",
              "        vertical-align: top;\n",
              "    }\n",
              "\n",
              "    .dataframe thead th {\n",
              "        text-align: right;\n",
              "    }\n",
              "</style>\n",
              "<table border=\"1\" class=\"dataframe\">\n",
              "  <thead>\n",
              "    <tr style=\"text-align: right;\">\n",
              "      <th></th>\n",
              "      <th>Date/Time</th>\n",
              "      <th>LV ActivePower (kW)</th>\n",
              "      <th>Wind Speed (m/s)</th>\n",
              "      <th>Theoretical_Power_Curve (KWh)</th>\n",
              "      <th>Wind Direction (°)</th>\n",
              "    </tr>\n",
              "  </thead>\n",
              "  <tbody>\n",
              "    <tr>\n",
              "      <th>0</th>\n",
              "      <td>01 01 2018 00:00</td>\n",
              "      <td>380.047791</td>\n",
              "      <td>5.311336</td>\n",
              "      <td>416.328908</td>\n",
              "      <td>259.994904</td>\n",
              "    </tr>\n",
              "    <tr>\n",
              "      <th>1</th>\n",
              "      <td>01 01 2018 00:10</td>\n",
              "      <td>453.769196</td>\n",
              "      <td>5.672167</td>\n",
              "      <td>519.917511</td>\n",
              "      <td>268.641113</td>\n",
              "    </tr>\n",
              "    <tr>\n",
              "      <th>2</th>\n",
              "      <td>01 01 2018 00:20</td>\n",
              "      <td>306.376587</td>\n",
              "      <td>5.216037</td>\n",
              "      <td>390.900016</td>\n",
              "      <td>272.564789</td>\n",
              "    </tr>\n",
              "    <tr>\n",
              "      <th>3</th>\n",
              "      <td>01 01 2018 00:30</td>\n",
              "      <td>419.645905</td>\n",
              "      <td>5.659674</td>\n",
              "      <td>516.127569</td>\n",
              "      <td>271.258087</td>\n",
              "    </tr>\n",
              "    <tr>\n",
              "      <th>4</th>\n",
              "      <td>01 01 2018 00:40</td>\n",
              "      <td>380.650696</td>\n",
              "      <td>5.577941</td>\n",
              "      <td>491.702972</td>\n",
              "      <td>265.674286</td>\n",
              "    </tr>\n",
              "  </tbody>\n",
              "</table>\n",
              "</div>\n",
              "      <button class=\"colab-df-convert\" onclick=\"convertToInteractive('df-556245c9-ba09-48b2-82e8-521bed6e5ec9')\"\n",
              "              title=\"Convert this dataframe to an interactive table.\"\n",
              "              style=\"display:none;\">\n",
              "        \n",
              "  <svg xmlns=\"http://www.w3.org/2000/svg\" height=\"24px\"viewBox=\"0 0 24 24\"\n",
              "       width=\"24px\">\n",
              "    <path d=\"M0 0h24v24H0V0z\" fill=\"none\"/>\n",
              "    <path d=\"M18.56 5.44l.94 2.06.94-2.06 2.06-.94-2.06-.94-.94-2.06-.94 2.06-2.06.94zm-11 1L8.5 8.5l.94-2.06 2.06-.94-2.06-.94L8.5 2.5l-.94 2.06-2.06.94zm10 10l.94 2.06.94-2.06 2.06-.94-2.06-.94-.94-2.06-.94 2.06-2.06.94z\"/><path d=\"M17.41 7.96l-1.37-1.37c-.4-.4-.92-.59-1.43-.59-.52 0-1.04.2-1.43.59L10.3 9.45l-7.72 7.72c-.78.78-.78 2.05 0 2.83L4 21.41c.39.39.9.59 1.41.59.51 0 1.02-.2 1.41-.59l7.78-7.78 2.81-2.81c.8-.78.8-2.07 0-2.86zM5.41 20L4 18.59l7.72-7.72 1.47 1.35L5.41 20z\"/>\n",
              "  </svg>\n",
              "      </button>\n",
              "      \n",
              "  <style>\n",
              "    .colab-df-container {\n",
              "      display:flex;\n",
              "      flex-wrap:wrap;\n",
              "      gap: 12px;\n",
              "    }\n",
              "\n",
              "    .colab-df-convert {\n",
              "      background-color: #E8F0FE;\n",
              "      border: none;\n",
              "      border-radius: 50%;\n",
              "      cursor: pointer;\n",
              "      display: none;\n",
              "      fill: #1967D2;\n",
              "      height: 32px;\n",
              "      padding: 0 0 0 0;\n",
              "      width: 32px;\n",
              "    }\n",
              "\n",
              "    .colab-df-convert:hover {\n",
              "      background-color: #E2EBFA;\n",
              "      box-shadow: 0px 1px 2px rgba(60, 64, 67, 0.3), 0px 1px 3px 1px rgba(60, 64, 67, 0.15);\n",
              "      fill: #174EA6;\n",
              "    }\n",
              "\n",
              "    [theme=dark] .colab-df-convert {\n",
              "      background-color: #3B4455;\n",
              "      fill: #D2E3FC;\n",
              "    }\n",
              "\n",
              "    [theme=dark] .colab-df-convert:hover {\n",
              "      background-color: #434B5C;\n",
              "      box-shadow: 0px 1px 3px 1px rgba(0, 0, 0, 0.15);\n",
              "      filter: drop-shadow(0px 1px 2px rgba(0, 0, 0, 0.3));\n",
              "      fill: #FFFFFF;\n",
              "    }\n",
              "  </style>\n",
              "\n",
              "      <script>\n",
              "        const buttonEl =\n",
              "          document.querySelector('#df-556245c9-ba09-48b2-82e8-521bed6e5ec9 button.colab-df-convert');\n",
              "        buttonEl.style.display =\n",
              "          google.colab.kernel.accessAllowed ? 'block' : 'none';\n",
              "\n",
              "        async function convertToInteractive(key) {\n",
              "          const element = document.querySelector('#df-556245c9-ba09-48b2-82e8-521bed6e5ec9');\n",
              "          const dataTable =\n",
              "            await google.colab.kernel.invokeFunction('convertToInteractive',\n",
              "                                                     [key], {});\n",
              "          if (!dataTable) return;\n",
              "\n",
              "          const docLinkHtml = 'Like what you see? Visit the ' +\n",
              "            '<a target=\"_blank\" href=https://colab.research.google.com/notebooks/data_table.ipynb>data table notebook</a>'\n",
              "            + ' to learn more about interactive tables.';\n",
              "          element.innerHTML = '';\n",
              "          dataTable['output_type'] = 'display_data';\n",
              "          await google.colab.output.renderOutput(dataTable, element);\n",
              "          const docLink = document.createElement('div');\n",
              "          docLink.innerHTML = docLinkHtml;\n",
              "          element.appendChild(docLink);\n",
              "        }\n",
              "      </script>\n",
              "    </div>\n",
              "  </div>\n",
              "  "
            ],
            "text/plain": [
              "          Date/Time  ...  Wind Direction (°)\n",
              "0  01 01 2018 00:00  ...          259.994904\n",
              "1  01 01 2018 00:10  ...          268.641113\n",
              "2  01 01 2018 00:20  ...          272.564789\n",
              "3  01 01 2018 00:30  ...          271.258087\n",
              "4  01 01 2018 00:40  ...          265.674286\n",
              "\n",
              "[5 rows x 5 columns]"
            ]
          },
          "metadata": {},
          "execution_count": 3
        }
      ]
    },
    {
      "cell_type": "code",
      "source": [
        "display(turbina.dtypes) # Com isso podemos ver os tipos de dados que cada coluna possui, Datahora(DateTime64) e Ponto Flutuante(float64)."
      ],
      "metadata": {
        "colab": {
          "base_uri": "https://localhost:8080/",
          "height": 121
        },
        "id": "45iSiK5XohSa",
        "outputId": "66b12b8e-d695-43b2-8809-17b67c2b28ef"
      },
      "execution_count": 4,
      "outputs": [
        {
          "output_type": "display_data",
          "data": {
            "text/plain": [
              "Date/Time                         object\n",
              "LV ActivePower (kW)              float64\n",
              "Wind Speed (m/s)                 float64\n",
              "Theoretical_Power_Curve (KWh)    float64\n",
              "Wind Direction (°)               float64\n",
              "dtype: object"
            ]
          },
          "metadata": {}
        }
      ]
    },
    {
      "cell_type": "code",
      "source": [
        "turbina.shape[0]\n",
        "turbina.shape[1]\n",
        "\n",
        "print('Linhas:\\t{}'.format(turbina.shape[0]), '\\nColunas:\\t{}' .format(turbina.shape[1]))\n",
        "\n",
        "#Aqui vemos a quantidade de registros no Dataset"
      ],
      "metadata": {
        "colab": {
          "base_uri": "https://localhost:8080/"
        },
        "id": "uK-dhpqps4lb",
        "outputId": "9531939f-22e6-4e05-c188-3d21a02fd734"
      },
      "execution_count": 5,
      "outputs": [
        {
          "output_type": "stream",
          "name": "stdout",
          "text": [
            "Linhas:\t50530 \n",
            "Colunas:\t5\n"
          ]
        }
      ]
    },
    {
      "cell_type": "code",
      "source": [
        "turbina.columns = ['Data/hora', 'ActivePower(kW)', 'WindSpeed(m/s)', 'Curva_Teórica(KWh)','Direção do Vento(°)'] #Alteração de nome de algumas colunas para facilitar o entendimento\n",
        "del turbina['Direção do Vento(°)'] # Retirada da coluna Direção vento pois não será utilizada\n",
        "turbina['Data/hora']= pd.to_datetime(turbina['Data/hora'])\n",
        "display(turbina)"
      ],
      "metadata": {
        "colab": {
          "base_uri": "https://localhost:8080/",
          "height": 423
        },
        "id": "fR0gzvWqsSRj",
        "outputId": "c58fb0db-ef79-4178-e18d-53e0f7aee006"
      },
      "execution_count": 6,
      "outputs": [
        {
          "output_type": "display_data",
          "data": {
            "text/html": [
              "\n",
              "  <div id=\"df-77e4bed5-4f38-4bf1-b50c-eb547ace0800\">\n",
              "    <div class=\"colab-df-container\">\n",
              "      <div>\n",
              "<style scoped>\n",
              "    .dataframe tbody tr th:only-of-type {\n",
              "        vertical-align: middle;\n",
              "    }\n",
              "\n",
              "    .dataframe tbody tr th {\n",
              "        vertical-align: top;\n",
              "    }\n",
              "\n",
              "    .dataframe thead th {\n",
              "        text-align: right;\n",
              "    }\n",
              "</style>\n",
              "<table border=\"1\" class=\"dataframe\">\n",
              "  <thead>\n",
              "    <tr style=\"text-align: right;\">\n",
              "      <th></th>\n",
              "      <th>Data/hora</th>\n",
              "      <th>ActivePower(kW)</th>\n",
              "      <th>WindSpeed(m/s)</th>\n",
              "      <th>Curva_Teórica(KWh)</th>\n",
              "    </tr>\n",
              "  </thead>\n",
              "  <tbody>\n",
              "    <tr>\n",
              "      <th>0</th>\n",
              "      <td>2018-01-01 00:00:00</td>\n",
              "      <td>380.047791</td>\n",
              "      <td>5.311336</td>\n",
              "      <td>416.328908</td>\n",
              "    </tr>\n",
              "    <tr>\n",
              "      <th>1</th>\n",
              "      <td>2018-01-01 00:10:00</td>\n",
              "      <td>453.769196</td>\n",
              "      <td>5.672167</td>\n",
              "      <td>519.917511</td>\n",
              "    </tr>\n",
              "    <tr>\n",
              "      <th>2</th>\n",
              "      <td>2018-01-01 00:20:00</td>\n",
              "      <td>306.376587</td>\n",
              "      <td>5.216037</td>\n",
              "      <td>390.900016</td>\n",
              "    </tr>\n",
              "    <tr>\n",
              "      <th>3</th>\n",
              "      <td>2018-01-01 00:30:00</td>\n",
              "      <td>419.645905</td>\n",
              "      <td>5.659674</td>\n",
              "      <td>516.127569</td>\n",
              "    </tr>\n",
              "    <tr>\n",
              "      <th>4</th>\n",
              "      <td>2018-01-01 00:40:00</td>\n",
              "      <td>380.650696</td>\n",
              "      <td>5.577941</td>\n",
              "      <td>491.702972</td>\n",
              "    </tr>\n",
              "    <tr>\n",
              "      <th>...</th>\n",
              "      <td>...</td>\n",
              "      <td>...</td>\n",
              "      <td>...</td>\n",
              "      <td>...</td>\n",
              "    </tr>\n",
              "    <tr>\n",
              "      <th>50525</th>\n",
              "      <td>2018-12-31 23:10:00</td>\n",
              "      <td>2963.980957</td>\n",
              "      <td>11.404030</td>\n",
              "      <td>3397.190793</td>\n",
              "    </tr>\n",
              "    <tr>\n",
              "      <th>50526</th>\n",
              "      <td>2018-12-31 23:20:00</td>\n",
              "      <td>1684.353027</td>\n",
              "      <td>7.332648</td>\n",
              "      <td>1173.055771</td>\n",
              "    </tr>\n",
              "    <tr>\n",
              "      <th>50527</th>\n",
              "      <td>2018-12-31 23:30:00</td>\n",
              "      <td>2201.106934</td>\n",
              "      <td>8.435358</td>\n",
              "      <td>1788.284755</td>\n",
              "    </tr>\n",
              "    <tr>\n",
              "      <th>50528</th>\n",
              "      <td>2018-12-31 23:40:00</td>\n",
              "      <td>2515.694092</td>\n",
              "      <td>9.421366</td>\n",
              "      <td>2418.382503</td>\n",
              "    </tr>\n",
              "    <tr>\n",
              "      <th>50529</th>\n",
              "      <td>2018-12-31 23:50:00</td>\n",
              "      <td>2820.466064</td>\n",
              "      <td>9.979332</td>\n",
              "      <td>2779.184096</td>\n",
              "    </tr>\n",
              "  </tbody>\n",
              "</table>\n",
              "<p>50530 rows × 4 columns</p>\n",
              "</div>\n",
              "      <button class=\"colab-df-convert\" onclick=\"convertToInteractive('df-77e4bed5-4f38-4bf1-b50c-eb547ace0800')\"\n",
              "              title=\"Convert this dataframe to an interactive table.\"\n",
              "              style=\"display:none;\">\n",
              "        \n",
              "  <svg xmlns=\"http://www.w3.org/2000/svg\" height=\"24px\"viewBox=\"0 0 24 24\"\n",
              "       width=\"24px\">\n",
              "    <path d=\"M0 0h24v24H0V0z\" fill=\"none\"/>\n",
              "    <path d=\"M18.56 5.44l.94 2.06.94-2.06 2.06-.94-2.06-.94-.94-2.06-.94 2.06-2.06.94zm-11 1L8.5 8.5l.94-2.06 2.06-.94-2.06-.94L8.5 2.5l-.94 2.06-2.06.94zm10 10l.94 2.06.94-2.06 2.06-.94-2.06-.94-.94-2.06-.94 2.06-2.06.94z\"/><path d=\"M17.41 7.96l-1.37-1.37c-.4-.4-.92-.59-1.43-.59-.52 0-1.04.2-1.43.59L10.3 9.45l-7.72 7.72c-.78.78-.78 2.05 0 2.83L4 21.41c.39.39.9.59 1.41.59.51 0 1.02-.2 1.41-.59l7.78-7.78 2.81-2.81c.8-.78.8-2.07 0-2.86zM5.41 20L4 18.59l7.72-7.72 1.47 1.35L5.41 20z\"/>\n",
              "  </svg>\n",
              "      </button>\n",
              "      \n",
              "  <style>\n",
              "    .colab-df-container {\n",
              "      display:flex;\n",
              "      flex-wrap:wrap;\n",
              "      gap: 12px;\n",
              "    }\n",
              "\n",
              "    .colab-df-convert {\n",
              "      background-color: #E8F0FE;\n",
              "      border: none;\n",
              "      border-radius: 50%;\n",
              "      cursor: pointer;\n",
              "      display: none;\n",
              "      fill: #1967D2;\n",
              "      height: 32px;\n",
              "      padding: 0 0 0 0;\n",
              "      width: 32px;\n",
              "    }\n",
              "\n",
              "    .colab-df-convert:hover {\n",
              "      background-color: #E2EBFA;\n",
              "      box-shadow: 0px 1px 2px rgba(60, 64, 67, 0.3), 0px 1px 3px 1px rgba(60, 64, 67, 0.15);\n",
              "      fill: #174EA6;\n",
              "    }\n",
              "\n",
              "    [theme=dark] .colab-df-convert {\n",
              "      background-color: #3B4455;\n",
              "      fill: #D2E3FC;\n",
              "    }\n",
              "\n",
              "    [theme=dark] .colab-df-convert:hover {\n",
              "      background-color: #434B5C;\n",
              "      box-shadow: 0px 1px 3px 1px rgba(0, 0, 0, 0.15);\n",
              "      filter: drop-shadow(0px 1px 2px rgba(0, 0, 0, 0.3));\n",
              "      fill: #FFFFFF;\n",
              "    }\n",
              "  </style>\n",
              "\n",
              "      <script>\n",
              "        const buttonEl =\n",
              "          document.querySelector('#df-77e4bed5-4f38-4bf1-b50c-eb547ace0800 button.colab-df-convert');\n",
              "        buttonEl.style.display =\n",
              "          google.colab.kernel.accessAllowed ? 'block' : 'none';\n",
              "\n",
              "        async function convertToInteractive(key) {\n",
              "          const element = document.querySelector('#df-77e4bed5-4f38-4bf1-b50c-eb547ace0800');\n",
              "          const dataTable =\n",
              "            await google.colab.kernel.invokeFunction('convertToInteractive',\n",
              "                                                     [key], {});\n",
              "          if (!dataTable) return;\n",
              "\n",
              "          const docLinkHtml = 'Like what you see? Visit the ' +\n",
              "            '<a target=\"_blank\" href=https://colab.research.google.com/notebooks/data_table.ipynb>data table notebook</a>'\n",
              "            + ' to learn more about interactive tables.';\n",
              "          element.innerHTML = '';\n",
              "          dataTable['output_type'] = 'display_data';\n",
              "          await google.colab.output.renderOutput(dataTable, element);\n",
              "          const docLink = document.createElement('div');\n",
              "          docLink.innerHTML = docLinkHtml;\n",
              "          element.appendChild(docLink);\n",
              "        }\n",
              "      </script>\n",
              "    </div>\n",
              "  </div>\n",
              "  "
            ],
            "text/plain": [
              "                Data/hora  ActivePower(kW)  WindSpeed(m/s)  Curva_Teórica(KWh)\n",
              "0     2018-01-01 00:00:00       380.047791        5.311336          416.328908\n",
              "1     2018-01-01 00:10:00       453.769196        5.672167          519.917511\n",
              "2     2018-01-01 00:20:00       306.376587        5.216037          390.900016\n",
              "3     2018-01-01 00:30:00       419.645905        5.659674          516.127569\n",
              "4     2018-01-01 00:40:00       380.650696        5.577941          491.702972\n",
              "...                   ...              ...             ...                 ...\n",
              "50525 2018-12-31 23:10:00      2963.980957       11.404030         3397.190793\n",
              "50526 2018-12-31 23:20:00      1684.353027        7.332648         1173.055771\n",
              "50527 2018-12-31 23:30:00      2201.106934        8.435358         1788.284755\n",
              "50528 2018-12-31 23:40:00      2515.694092        9.421366         2418.382503\n",
              "50529 2018-12-31 23:50:00      2820.466064        9.979332         2779.184096\n",
              "\n",
              "[50530 rows x 4 columns]"
            ]
          },
          "metadata": {}
        }
      ]
    },
    {
      "cell_type": "code",
      "source": [
        "turbina.shape[0]\n",
        "turbina.shape[1]\n",
        "\n",
        "print('Linhas:\\t{}'.format(turbina.shape[0]), '\\nColunas:\\t{}' .format(turbina.shape[1]))\n",
        "\n",
        "#Novamente o mesmo código apenas para ilustrar que realmente foi retirado uma coluna do Dataset"
      ],
      "metadata": {
        "colab": {
          "base_uri": "https://localhost:8080/"
        },
        "id": "-7Bx5AsBt1L9",
        "outputId": "64cded00-6d94-4bcd-e143-6dcccd7bf880"
      },
      "execution_count": 7,
      "outputs": [
        {
          "output_type": "stream",
          "name": "stdout",
          "text": [
            "Linhas:\t50530 \n",
            "Colunas:\t4\n"
          ]
        }
      ]
    },
    {
      "cell_type": "markdown",
      "source": [
        "#**Hora dos Gráficos**\n",
        "---\n",
        "\n",
        "Para facilitar o entendimento de como os dados estão distribuídos.\n",
        "\n",
        "Lembra que no início na parte onde foram detalhados os itens do Dataset, foi citado que havia uma coluna chamada de 'TheoreticalPowerCurve (KWh)', onde apresenta os valores potenciais fornecidos pelo fabricante.\n",
        "\n",
        "Pois bem, serão analisados dois gráficos, um com os dados do fabricante e outro com os dados reais da turbina, para assim podermos comparar o real desempenho."
      ],
      "metadata": {
        "id": "lQiZgWoPuSDq"
      }
    },
    {
      "cell_type": "markdown",
      "source": [
        "#**Gráfico - Desempenho Real**\n",
        "---"
      ],
      "metadata": {
        "id": "w4YDpqKkHB_g"
      }
    },
    {
      "cell_type": "code",
      "source": [
        "#Nesse caso foi utilizado a coluna WindSpeed no eixo x e a coluna ActivePower no eixo y.\n",
        "\n",
        "sns.scatterplot(data=turbina, x='WindSpeed(m/s)', y='ActivePower(kW)')"
      ],
      "metadata": {
        "colab": {
          "base_uri": "https://localhost:8080/",
          "height": 279
        },
        "id": "7XwBwWIVCt2H",
        "outputId": "5886a506-62f4-41cf-d6fe-e721d36a67e9"
      },
      "execution_count": 9,
      "outputs": [
        {
          "output_type": "display_data",
          "data": {
            "image/png": "[encoded data removed]",
            "text/plain": [
              "<Figure size 432x288 with 1 Axes>"
            ]
          },
          "metadata": {
            "needs_background": "light"
          }
        }
      ]
    },
    {
      "cell_type": "markdown",
      "source": [
        "#**Gráfico - Desempenho Ideal**\n",
        "---"
      ],
      "metadata": {
        "id": "AsGa2n6zL9r0"
      }
    },
    {
      "cell_type": "code",
      "source": [
        "sns.scatterplot (data=turbina, x='WindSpeed(m/s)', y='Curva_Teórica(KWh)')"
      ],
      "metadata": {
        "colab": {
          "base_uri": "https://localhost:8080/",
          "height": 296
        },
        "id": "6VArMSdlHJ-d",
        "outputId": "bac206d9-bf01-474c-f75e-a2b572123cdd"
      },
      "execution_count": 10,
      "outputs": [
        {
          "output_type": "execute_result",
          "data": {
            "text/plain": [
              "<matplotlib.axes._subplots.AxesSubplot at 0x7f4447452050>"
            ]
          },
          "metadata": {},
          "execution_count": 10
        },
        {
          "output_type": "display_data",
          "data": {
            "image/png": "[encoded data removed]",
            "text/plain": [
              "<Figure size 432x288 with 1 Axes>"
            ]
          },
          "metadata": {
            "needs_background": "light"
          }
        }
      ]
    },
    {
      "cell_type": "markdown",
      "source": [
        "O gráfico acima, onde demonstra os dados potenciais fornecidos pelo fabricante nem sempre se reflete na realidade dentro das condições de uso do equipamento.\n",
        "\n",
        "De cara, apenas olhando os dois gráficos podemos perceber que no gráfico real existem muitos valores que estão fora do ideal."
      ],
      "metadata": {
        "id": "SyQ4sbPyLWH4"
      }
    },
    {
      "cell_type": "markdown",
      "source": [
        "#**Definindo Limites**"
      ],
      "metadata": {
        "id": "srajTnHHMVjE"
      }
    },
    {
      "cell_type": "code",
      "source": [
        "POWERreal = turbina['ActivePower(kW)'].tolist()       #Criada uma variável e nela convertemos os valores da coluna Active Power em uma lista\n",
        "POWERteorica = turbina['Curva_Teórica(KWh)'].tolist() #Criada variável e nela convertemos os valores da coluna Curva Teórica em lista\n",
        "\n",
        "PWRmax=[]\n",
        "PWRmin=[]\n",
        "PWRdentro=[]  #Foram criadas 3 listas onde serão armazenados os valores máximo, minímo e os valores que estão dentro das especificações\n",
        "\n",
        "#Aqui foi estabelecido o paramêtro para esses dados, bem como o limite aceitável em relação aos valores apresentados\n",
        "for potencia in POWERteorica:\n",
        "  PWRmax.append(potencia*1.05)\n",
        "  PWRmin.append(potencia*0.95)\n",
        "\n",
        "for p, potencia in enumerate(POWERreal):\n",
        "  if potencia>=PWRmin[p] and potencia<=PWRmax[p]:\n",
        "    PWRdentro.append('Dentro')\n",
        "  elif potencia==0:\n",
        "    PWRdentro.append('Zero')\n",
        "  else:\n",
        "    PWRdentro.append('Fora')    \n",
        "  "
      ],
      "metadata": {
        "id": "amhI-iB3MZzS"
      },
      "execution_count": 12,
      "outputs": []
    },
    {
      "cell_type": "markdown",
      "source": [
        "#**Adicionando lista ao Dataset**\n",
        "---\n",
        "\n",
        "No código acima, foram criadas 3 listas, onde foram armazenados os valores máximos e mínimos e também uma lista onde foram armazenados os valores que correspondem aos valores ideais fornecidos pelo fabricante."
      ],
      "metadata": {
        "id": "Wi9WvLidO_Hk"
      }
    },
    {
      "cell_type": "code",
      "source": [
        "turbina['DentroLimite'] = PWRdentro\n",
        "\n",
        "print(turbina)"
      ],
      "metadata": {
        "colab": {
          "base_uri": "https://localhost:8080/"
        },
        "id": "UL1htu6aPjkz",
        "outputId": "5272d25d-8b6b-480d-d047-1c2c991066b6"
      },
      "execution_count": 13,
      "outputs": [
        {
          "output_type": "stream",
          "name": "stdout",
          "text": [
            "                Data/hora  ActivePower(kW)  ...  Curva_Teórica(KWh)  DentroLimite\n",
            "0     2018-01-01 00:00:00       380.047791  ...          416.328908          Fora\n",
            "1     2018-01-01 00:10:00       453.769196  ...          519.917511          Fora\n",
            "2     2018-01-01 00:20:00       306.376587  ...          390.900016          Fora\n",
            "3     2018-01-01 00:30:00       419.645905  ...          516.127569          Fora\n",
            "4     2018-01-01 00:40:00       380.650696  ...          491.702972          Fora\n",
            "...                   ...              ...  ...                 ...           ...\n",
            "50525 2018-12-31 23:10:00      2963.980957  ...         3397.190793          Fora\n",
            "50526 2018-12-31 23:20:00      1684.353027  ...         1173.055771          Fora\n",
            "50527 2018-12-31 23:30:00      2201.106934  ...         1788.284755          Fora\n",
            "50528 2018-12-31 23:40:00      2515.694092  ...         2418.382503        Dentro\n",
            "50529 2018-12-31 23:50:00      2820.466064  ...         2779.184096        Dentro\n",
            "\n",
            "[50530 rows x 5 columns]\n"
          ]
        }
      ]
    },
    {
      "cell_type": "markdown",
      "source": [
        "E podemos ver que a lista com os valores foram devidamente adicionadas ao Dataset como uma nova coluna.\n",
        "\n",
        "Agora temos todos os valores e indicadores necessários para a análise completa da turbina.\n",
        "\n",
        "Temos os valores ideais fornecidos pelo fabricante, temos uma categorização dos valores de funcionamento reais da turbina em operação e podemos finalmente confrontar os dois tipos de dados."
      ],
      "metadata": {
        "id": "mCMztHDVP1wh"
      }
    },
    {
      "cell_type": "code",
      "source": [
        "cor={'Dentro':'orange','Fora':'gray','Zero':'yellow'}\n",
        "sns.scatterplot(data=turbina, x='WindSpeed(m/s)', y='ActivePower(kW)', hue='DentroLimite', s=1, palette=cor)\n"
      ],
      "metadata": {
        "colab": {
          "base_uri": "https://localhost:8080/",
          "height": 296
        },
        "id": "7NAXn0yGQujD",
        "outputId": "84351e2e-09c1-45b0-ef01-ea915bbbbc2b"
      },
      "execution_count": 33,
      "outputs": [
        {
          "output_type": "execute_result",
          "data": {
            "text/plain": [
              "<matplotlib.axes._subplots.AxesSubplot at 0x7f444223fe90>"
            ]
          },
          "metadata": {},
          "execution_count": 33
        },
        {
          "output_type": "display_data",
          "data": {
            "image/png": "[encoded data removed]",
            "text/plain": [
              "<Figure size 432x288 with 1 Axes>"
            ]
          },
          "metadata": {
            "needs_background": "light"
          }
        }
      ]
    },
    {
      "cell_type": "markdown",
      "source": [
        "#**Conclusão**\n",
        "---\n",
        "\n",
        "Foi realizada uma análise dos dados do sistema SCADA de uma turbina atualmente em funcionamento na Turquia.\n",
        "\n",
        "A análise foi realizada utilizando os dados de energia que a turbina gera em relação à velocidade do vento.\n",
        "\n",
        "O fabricante forneceu os dados de energia ideal gerada pela turbina, ou seja, em condições ideais de funcionamento.\n",
        "\n",
        "Tais dados foram utilizados como parâmetro ao analisar os dados da turbina em funcionamento.\n",
        "\n",
        "Podemos notar que os dados reais obtidos pela turbina nos mostra muita variação ao longo de seu funcionamento, sendo necessário mais dados para que possamos entender os reais motivos de divergência.\n",
        "\n"
      ],
      "metadata": {
        "id": "BczGdQvSTUy5"
      }
    }
  ]
}